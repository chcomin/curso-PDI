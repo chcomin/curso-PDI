{
 "cells": [
  {
   "cell_type": "markdown",
   "metadata": {},
   "source": [
    "# Implementação das operações de correlação-cruzada e convolução\n",
    "\n",
    "Dada uma imagem $f$ e um filtro $w$ de tamanho $a\\times b$, a correlação-cruzada para cada pixel $(x,y)$ da imagem é calculada pela fórmula\n",
    "\\begin{equation}\n",
    "g(x,y)=\\sum_{s=0}^{a}\\sum_{t=0}^{b}w(s,t)f(x+s-\\frac{a}{2}, y+t-\\frac{b}{2})\n",
    "\\end{equation}"
   ]
  },
  {
   "cell_type": "code",
   "execution_count": 1,
   "metadata": {
    "collapsed": true
   },
   "outputs": [],
   "source": [
    "import numpy as np\n",
    "import matplotlib.pyplot as plt\n",
    "\n",
    "def correlation(img, w):\n",
    "    '''Calcula a correlação cruzada entre a imagem img e o filtro w.\n",
    "    \n",
    "       Parâmetros\n",
    "       ----------\n",
    "       img : numpy array.\n",
    "           Imagem a ser filtrada.\n",
    "       w : numpy array.\n",
    "           Filtro a ser utilizada na correlação cruzada.\n",
    "       \n",
    "       Return\n",
    "       -------\n",
    "       img_filtered : numpy array, mesmo tamanho que img\n",
    "           Imagem filtrada\n",
    "    '''\n",
    "\n",
    "    numRows, numCols = img.shape\n",
    "    fNumRows, fNumCols = w.shape   # fNumRows=a+1 e fNumCols=b+1 (a e b na fórmula acima)\n",
    "\n",
    "    halfRSize = fNumRows//2        # O operador // retorna a parte inteira da divisão\n",
    "    halfCSize = fNumCols//2\n",
    "\n",
    "    # Cria imagem com zeros ao redor da borda\n",
    "    imgPadded = np.zeros((numRows+fNumRows-1, numCols+fNumCols-1), dtype=img.dtype)\n",
    "    for row in range(numRows):\n",
    "        for col in range(numCols):   \n",
    "            imgPadded[row+halfRSize, col+halfCSize] = img[row, col]\n",
    "    # A estrutura for aninhada acima pode ser substituída por\n",
    "    #imgPadded = np.pad(img, ((halfRSize,halfRSize),(halfCSize,halfCSize)), mode='constant')\n",
    "    \n",
    "    img_filtered = np.zeros((numRows, numCols))\n",
    "    for row in range(numRows):\n",
    "        for col in range(numCols):\n",
    "            sum_region = 0\n",
    "            for s in range(fNumRows):\n",
    "                for t in range(fNumCols):\n",
    "                    # O índice do array na soma abaixo é diferente do utilizado na fórmula da \n",
    "                    # correlação porque estamos utilizando a imagem preenchida com zeros. O \n",
    "                    # pixel (0,0)  na imagem preenchida corresponde ao pixel (x+s-a/2, y+t-b/2) \n",
    "                    # da imagem original\n",
    "                    sum_region += w[s, t]*imgPadded[row+s, col+t]\n",
    "            img_filtered[row, col] = sum_region\n",
    "\n",
    "            # O loop aninhado acima pode ser substituído por\n",
    "            # patch = imgPadded[row:row+fNumRows, col:col+fNumCols]\n",
    "            # img_filtered[row, col] = np.sum(w*patch)\n",
    "            \n",
    "    return img_filtered\n",
    "\n",
    "def convolution(img, w):\n",
    "    '''Calcula a convolução entre a imagem img e o filtro w.\n",
    "    \n",
    "       Parâmetros\n",
    "       ----------\n",
    "       img : numpy array.\n",
    "           Imagem a ser filtrada.\n",
    "       w : numpy array.\n",
    "           Filtro a ser utilizada na correlação cruzada.\n",
    "       \n",
    "       Return\n",
    "       -------\n",
    "       img_filtered : numpy array, mesmo tamanho que img\n",
    "           Imagem filtrada\n",
    "    '''\n",
    "    # Inverte o filtro\n",
    "    w_inv = w[::-1, ::-1]\n",
    "\n",
    "    img_filtered = correlation(img, w_inv)\n",
    "\n",
    "    return img_filtered"
   ]
  },
  {
   "cell_type": "markdown",
   "metadata": {},
   "source": [
    "## Correlação entre sinal e filtro 1D"
   ]
  },
  {
   "cell_type": "code",
   "execution_count": 2,
   "metadata": {},
   "outputs": [
    {
     "name": "stdout",
     "output_type": "stream",
     "text": [
      "[[13. 11. 17. 18. 16. 10.  7.  9.  5.]]\n"
     ]
    }
   ],
   "source": [
    "# Vamos criar um sinal 1D artificial. Como a função acima foi implementada para arrays 2D,\n",
    "# nosso sinal 1D será representado por uma matriz de uma única linha\n",
    "sinal = np.array([[2, 3, 1, 4, 3, 2, 1, 1, 2]])\n",
    "w = np.array([[1, 2, 3]])\n",
    "img_filtered = correlation(sinal, w)\n",
    "print(img_filtered)"
   ]
  },
  {
   "cell_type": "markdown",
   "metadata": {},
   "source": [
    "## Comparação entre correlação e convolução"
   ]
  },
  {
   "cell_type": "code",
   "execution_count": 3,
   "metadata": {},
   "outputs": [
    {
     "name": "stdout",
     "output_type": "stream",
     "text": [
      "img_corr_w:\n",
      "[[0. 0. 0. 4. 3. 2. 1. 0. 0.]]\n",
      "w_corr_img:\n",
      "[[1. 2. 3. 4.]]\n",
      "img_conv_w:\n",
      "[[0. 0. 0. 1. 2. 3. 4. 0. 0.]]\n",
      "w_conv_img:\n",
      "[[1. 2. 3. 4.]]\n"
     ]
    }
   ],
   "source": [
    "img = np.array([[0, 0, 0, 0, 1, 0, 0, 0, 0]])\n",
    "w = np.array([[1, 2, 3, 4]])\n",
    "img_corr_w = correlation(img, w)\n",
    "w_corr_img = correlation(w, img)\n",
    "print('img_corr_w:')\n",
    "print(img_corr_w)\n",
    "print('w_corr_img:')\n",
    "print(w_corr_img)\n",
    "img_conv_w = convolution(img, w)\n",
    "w_conv_img = convolution(w, img)\n",
    "print('img_conv_w:')\n",
    "print(img_conv_w)\n",
    "print('w_conv_img:')\n",
    "print(w_conv_img)"
   ]
  },
  {
   "cell_type": "markdown",
   "metadata": {},
   "source": [
    "## Filtro de média simples aplicado a uma imagem artificial"
   ]
  },
  {
   "cell_type": "code",
   "execution_count": 4,
   "metadata": {},
   "outputs": [
    {
     "name": "stdout",
     "output_type": "stream",
     "text": [
      "[[0.66666667 1.33333333 1.44444444 1.33333333 0.66666667]\n",
      " [0.66666667 1.44444444 1.77777778 1.77777778 1.        ]\n",
      " [0.66666667 1.33333333 1.33333333 1.55555556 0.88888889]\n",
      " [0.88888889 1.33333333 1.22222222 1.55555556 1.11111111]\n",
      " [0.88888889 1.22222222 0.88888889 1.11111111 0.77777778]]\n"
     ]
    }
   ],
   "source": [
    "img = np.array([[1, 2, 3, 2, 1], \n",
    "                [2, 1, 3, 2, 1],\n",
    "                [0, 0, 1, 2, 1],\n",
    "                [2, 1, 2, 0, 2],\n",
    "                [3, 2, 1, 2, 3]])\n",
    "w = np.array([[1, 1, 1],\n",
    "              [1, 1, 1],\n",
    "              [1, 1, 1]])\n",
    "w = w/9.\n",
    "img_filtered = correlation(img, w)\n",
    "print(img_filtered)"
   ]
  }
 ],
 "metadata": {
  "kernelspec": {
   "display_name": "Python 3",
   "language": "python",
   "name": "python3"
  },
  "language_info": {
   "codemirror_mode": {
    "name": "ipython",
    "version": 3
   },
   "file_extension": ".py",
   "mimetype": "text/x-python",
   "name": "python",
   "nbconvert_exporter": "python",
   "pygments_lexer": "ipython3",
   "version": "3.6.5"
  }
 },
 "nbformat": 4,
 "nbformat_minor": 2
}
