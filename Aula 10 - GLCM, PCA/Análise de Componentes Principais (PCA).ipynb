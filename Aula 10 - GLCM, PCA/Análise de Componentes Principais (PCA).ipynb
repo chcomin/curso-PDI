{
 "cells": [
  {
   "cell_type": "markdown",
   "metadata": {},
   "source": [
    "# Análise de Componentes Principais (PCA)"
   ]
  },
  {
   "cell_type": "markdown",
   "metadata": {},
   "source": [
    "## 1. Definição das propriedades a serem utilizadas"
   ]
  },
  {
   "cell_type": "code",
   "execution_count": 1,
   "metadata": {
    "collapsed": true
   },
   "outputs": [],
   "source": [
    "%matplotlib inline\n",
    "import os\n",
    "import numpy as np\n",
    "import matplotlib.pyplot as plt\n",
    "import scipy.ndimage as ndi\n",
    "import cv2\n",
    "\n",
    "def get_area(img):\n",
    "    '''Calcula a área do objeto contido em img'''\n",
    "    \n",
    "    return np.sum(img)\n",
    "\n",
    "def get_perimeter(img):\n",
    "    '''Calcula o perímetro do objeto contido em img utilizando contagem simples\n",
    "       de pixels'''\n",
    "    \n",
    "    elem_est = np.ones((3, 3))\n",
    "    img_eroded = ndi.binary_erosion(img, elem_est)\n",
    "    img_border = img - img_eroded\n",
    "    perimeter = np.sum(img_border)    \n",
    "        \n",
    "    return perimeter\n",
    "\n",
    "def get_circularity(img):\n",
    "    '''Calcula circularidade do objeto contido em img'''\n",
    "    \n",
    "    area = get_area(img)\n",
    "    perimeter = get_perimeter(img)\n",
    "    \n",
    "    circularity = 4*np.pi*area/perimeter**2\n",
    "    \n",
    "    return circularity    \n",
    "\n",
    "def get_centroid(img):\n",
    "    '''Calcula a posição do centróide do objeto contido em img'''\n",
    "    \n",
    "    num_rows, num_cols = img.shape\n",
    "    sum_row_coords = 0\n",
    "    sum_col_coords = 0\n",
    "    num_pixels = 0\n",
    "    for row in range(num_rows):\n",
    "        for col in range(num_cols):\n",
    "            if img[row, col]==1:\n",
    "                sum_row_coords += row\n",
    "                sum_col_coords += col\n",
    "                num_pixels += 1\n",
    "                \n",
    "    avg_row = sum_row_coords/num_pixels\n",
    "    avg_col = sum_col_coords/num_pixels\n",
    "    \n",
    "    # Utilizando numpy\n",
    "    # pixel_indices = np.nonzero(img==1)\n",
    "    # avg_row = np.mean(pixel_indices[0])\n",
    "    # avg_col = np.mean(pixel_indices[1])\n",
    "       \n",
    "    return avg_row, avg_col\n",
    "    \n",
    "def get_distance_to_centroid(img):\n",
    "    '''Calcula a distância entre cada ponto de contorno e\n",
    "       o centróide do objeto contido em img'''\n",
    "    \n",
    "    avg_row, avg_col = get_centroid(img)\n",
    "    contour = get_parametric_contour_opencv(img)\n",
    "    dist_to_centroid = np.zeros(len(contour))\n",
    "    for point_index, point in enumerate(contour):\n",
    "        dist = np.sqrt((point[0]-avg_col)**2 + (point[1]-avg_row)**2)\n",
    "        dist_to_centroid[point_index] = dist\n",
    "        \n",
    "    # Utilizadno numpy\n",
    "    # contour = np.array(contour)\n",
    "    # dist_to_centroid = np.sqrt((contour[:,0]-avg_col)**2 + (contour[:,1]-avg_row)**2)\n",
    "        \n",
    "    return dist_to_centroid\n",
    "\n",
    "def get_parametric_contour_opencv(img):\n",
    "    '''Obtém o contorno paramétrico do objeto contido em img\n",
    "       utilizando a biblioteca opencv. Note que o contorno retornado\n",
    "       pela função é uma lista de posições. O primeiro valor de cada\n",
    "       posição é a coordenada da coluna e o segundo a coordenada da linha'''\n",
    "    \n",
    "    # Preenche imagem com zeros\n",
    "    img_pad = np.pad(img, 1, mode='constant')\n",
    "    \n",
    "    # cv2.RETR_EXTERNAL significa que apenas o contorno mais externo dos objetos \n",
    "    # será obtido (buracos dentro do objeto são ignorados). cv2.CHAIN_APPROX_NONE\n",
    "    # significa que todos os pontos do contorno serão retornados (é possível obter\n",
    "    # somente os vértices de um polígono representa o contorno).\n",
    "    contour = cv2.findContours(img_pad, mode=cv2.RETR_EXTERNAL, \n",
    "                               method=cv2.CHAIN_APPROX_NONE)[1]\n",
    "    \n",
    "    # O contorno retornado pelo OpenCV possui um formato bem estranho.\n",
    "    # O loop abaixo rearranja os pontos de forma a gerar uma lista simples de pontos\n",
    "    contour = [(point[0][0]-1, point[0][1]-1) for point in contour[0]]\n",
    "    \n",
    "    return contour\n",
    "\n",
    "def get_distance_to_centroid_props(dist_to_centroid):\n",
    "    '''Obtém algumas propriedades de um objeto a partir de uma lista de\n",
    "       distâncias entre os pontos de contorno e o centróide do mesmo'''\n",
    "    \n",
    "    avg_dist_to_centroid = np.mean(dist_to_centroid)\n",
    "    max_dist_to_centroid = np.max(dist_to_centroid)/avg_dist_to_centroid\n",
    "    min_dist_to_centroid = np.min(dist_to_centroid)/avg_dist_to_centroid\n",
    "    std_dist_to_centroid = np.std(dist_to_centroid)/avg_dist_to_centroid\n",
    "    \n",
    "    return max_dist_to_centroid, min_dist_to_centroid, std_dist_to_centroid\n",
    "\n",
    "def correct_image(img):\n",
    "    '''Corrige dois problems observados na base de dados: 1. Algumas imagens\n",
    "       apresentam conjuntos de pixels brancos separados do objeto principal. \n",
    "       Portanto precisamos encontrar e manter apenas o maior componente conexo\n",
    "       nessas imagens. 2. Em algumas imagens, o objeto não está preenchido.\n",
    "       Portanto, precisamos preenchê-los.'''\n",
    "    \n",
    "    # Obtenção do maior componente conexo utilizando funções do scipy\n",
    "    img_lab, num_comp = ndi.label(img, np.ones((3,3)))\n",
    "    tam_comps = ndi.sum(img, img_lab, range(1, num_comp+1))\n",
    "    index_largest_comp = np.argmax(tam_comps) + 1\n",
    "    img_largest_comp = img_lab==index_largest_comp\n",
    "\n",
    "    # Obtenção do maior componente conexo de background. A ideia é\n",
    "    # que buracos no interior do objeto representam componentes conexos\n",
    "    # pequenos, que serão eliminados se apenas o maior componente de\n",
    "    # background for mantido\n",
    "    img_inv = np.logical_not(img_largest_comp)   # Inverte a imagem\n",
    "    img_lab, num_comp = ndi.label(img_inv, np.ones((3,3)))\n",
    "    tam_comps = ndi.sum(img_inv, img_lab, range(1, num_comp+1))\n",
    "    index_largest_comp = np.argmax(tam_comps) + 1\n",
    "    img_largest_comp_filled = img_lab==index_largest_comp \n",
    "    \n",
    "    # Inverte novamente a imagem\n",
    "    img_largest_comp_filled = np.logical_not(img_largest_comp_filled)  \n",
    "    \n",
    "    return img_largest_comp_filled.astype(np.uint8)\n",
    "      "
   ]
  },
  {
   "cell_type": "markdown",
   "metadata": {},
   "source": [
    "## 2. Obtenção das propriedades das imagens da base"
   ]
  },
  {
   "cell_type": "code",
   "execution_count": 2,
   "metadata": {
    "collapsed": true
   },
   "outputs": [],
   "source": [
    "input_folder = 'imagens/'\n",
    "files = os.listdir(input_folder)    # Lista todos os arquivos no diretório input_folder\n",
    "num_files = len(files)\n",
    "\n",
    "measurements = np.zeros((num_files, 4))\n",
    "for file_index, file in enumerate(files):\n",
    "    img = plt.imread(input_folder+file)\n",
    "    img = (img>0).astype(np.uint8)\n",
    "    \n",
    "    # Se a imagem possuir 3 dimensões, é porque ela não possui apenas\n",
    "    # 1 canal. Nesse caso, mantemos apenas o primeiro canal\n",
    "    if img.ndim==3:\n",
    "        img = img[:,:,0]\n",
    "    \n",
    "    img_corrected = correct_image(img)\n",
    "    \n",
    "    circularity = get_circularity(img_corrected)\n",
    "    dist_to_centroid = get_distance_to_centroid(img_corrected)\n",
    "    props = get_distance_to_centroid_props(dist_to_centroid)\n",
    "    max_dist_to_centroid, min_dist_to_centroid, std_dist_to_centroid = props\n",
    "    \n",
    "    measurements[file_index] = [circularity, max_dist_to_centroid, \n",
    "                                min_dist_to_centroid, std_dist_to_centroid]\n",
    "    "
   ]
  },
  {
   "cell_type": "markdown",
   "metadata": {},
   "source": [
    "A variável measurements é uma matriz na qual cada linha representa uma imagem e cada coluna uma propriedade calculada. Ou seja, cada linha dessa matriz representa uma imagem localizada em um espaço de atributos 4 dimensões (pois a matriz tem 4 colunas)."
   ]
  },
  {
   "cell_type": "markdown",
   "metadata": {},
   "source": [
    "## 3. Aplicação do PCA implementado na biblioteca scikit-learn"
   ]
  },
  {
   "cell_type": "markdown",
   "metadata": {},
   "source": [
    "Vamos aplicar o PCA para definir 2 novos atributos. Veremos se esses 2 atributos podem ser utilizados para separar as duas categorias de imagens."
   ]
  },
  {
   "cell_type": "code",
   "execution_count": 3,
   "metadata": {},
   "outputs": [
    {
     "data": {
      "text/plain": [
       "[<matplotlib.lines.Line2D at 0x1910a189898>]"
      ]
     },
     "execution_count": 3,
     "metadata": {},
     "output_type": "execute_result"
    },
    {
     "data": {
      "image/png": "[encoded data removed]",
      "text/plain": [
       "<Figure size 432x288 with 1 Axes>"
      ]
     },
     "metadata": {},
     "output_type": "display_data"
    }
   ],
   "source": [
    "from sklearn.decomposition import PCA\n",
    "from sklearn.preprocessing import scale    # z-score\n",
    "\n",
    "# Normaliza medidas, de forma que cada coluna de measurements_norm\n",
    "# possui média 0 e desvio padrão 1\n",
    "measurements_norm = scale(measurements, axis=0)\n",
    "\n",
    "# Cria instância da classe PCA, com projeção em 2 eixos (2D), e aplica\n",
    "# o PCA nos dados\n",
    "pca_instance = PCA(n_components=2)\n",
    "proj_data = pca_instance.fit_transform(measurements_norm)\n",
    "\n",
    "# Plota cada metade dos pontos com uma cor diferente\n",
    "plt.plot(proj_data[:20,0], proj_data[:20,1], 'bo')\n",
    "plt.plot(proj_data[20:,0], proj_data[20:,1], 'ro')"
   ]
  },
  {
   "cell_type": "code",
   "execution_count": null,
   "metadata": {
    "collapsed": true
   },
   "outputs": [],
   "source": []
  }
 ],
 "metadata": {
  "kernelspec": {
   "display_name": "Python 3",
   "language": "python",
   "name": "python3"
  },
  "language_info": {
   "codemirror_mode": {
    "name": "ipython",
    "version": 3
   },
   "file_extension": ".py",
   "mimetype": "text/x-python",
   "name": "python",
   "nbconvert_exporter": "python",
   "pygments_lexer": "ipython3",
   "version": "3.6.5"
  }
 },
 "nbformat": 4,
 "nbformat_minor": 2
}
