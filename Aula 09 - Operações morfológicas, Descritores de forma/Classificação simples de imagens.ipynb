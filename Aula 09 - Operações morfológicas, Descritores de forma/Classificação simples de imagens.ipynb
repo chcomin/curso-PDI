{
 "cells": [
  {
   "cell_type": "markdown",
   "metadata": {},
   "source": [
    "# Classificação simples de imagens"
   ]
  },
  {
   "cell_type": "markdown",
   "metadata": {},
   "source": [
    "Mediremos o valor de circularidade de uma base de imagens e encontraremos, de forma visual, o valor que melhor separa duas classes de imagens.\n",
    "\n",
    "É importante notar que existem inúmeros métodos de aprendizado de máquina que podem ser utilizados para encontrarmos de forma sistemática e automática o melhor valor de separação. Mas nosso objetivo no momento é apenas fazer uma análise visual."
   ]
  },
  {
   "cell_type": "code",
   "execution_count": 1,
   "metadata": {
    "collapsed": true
   },
   "outputs": [],
   "source": [
    "%matplotlib inline\n",
    "import os\n",
    "import numpy as np\n",
    "import matplotlib.pyplot as plt\n",
    "import scipy.ndimage as ndi\n",
    "import contorno      # Código do notebook Extração de contorno \n",
    "                     # paramétrico, salvo como um arquivo .py"
   ]
  },
  {
   "cell_type": "code",
   "execution_count": 2,
   "metadata": {
    "collapsed": true
   },
   "outputs": [],
   "source": [
    "def get_area(img):\n",
    "    '''Calcula a área do objeto contido em img'''\n",
    "    \n",
    "    return np.sum(img)\n",
    "\n",
    "def get_perimeter(contour):\n",
    "    '''Calcula o perímetro do objeto representado pelo contorno\n",
    "       paramétrico contour'''\n",
    "    \n",
    "    arc_length = 0\n",
    "    for point_index in range(len(contour)-1):\n",
    "        curr_point = contour[point_index]\n",
    "        next_point = contour[point_index+1]\n",
    "        distance = np.sqrt((curr_point[0]-next_point[0])**2 + (curr_point[1]-next_point[1])**2)\n",
    "        arc_length += distance\n",
    "    curr_point = contour[-1]\n",
    "    next_point = contour[0]\n",
    "    distance = np.sqrt((curr_point[0]-next_point[0])**2 + (curr_point[1]-next_point[1])**2)    \n",
    "    arc_length += distance    \n",
    "        \n",
    "    return arc_length\n",
    "\n",
    "def get_circularity(img):\n",
    "    \n",
    "    area = get_area(img)\n",
    "    cont = contorno.image_contour(img)\n",
    "    perimeter = get_perimeter(cont)\n",
    "    \n",
    "    circularity = 4*np.pi*area/perimeter**2\n",
    "    \n",
    "    return circularity"
   ]
  },
  {
   "cell_type": "markdown",
   "metadata": {},
   "source": [
    "# 1. Encontra separação"
   ]
  },
  {
   "cell_type": "markdown",
   "metadata": {},
   "source": [
    "Vamos encontrar, de forma visual, o valor de circularidade que melhor separa os dois objetos"
   ]
  },
  {
   "cell_type": "markdown",
   "metadata": {},
   "source": [
    "### 1.1 Obtenção da circularidade"
   ]
  },
  {
   "cell_type": "code",
   "execution_count": 3,
   "metadata": {
    "collapsed": true
   },
   "outputs": [],
   "source": [
    "input_folder = 'imagens/imagens_conhecidas/'\n",
    "files = os.listdir(input_folder)    # Lista todos os arquivos no diretório input_folder\n",
    "num_files = len(files)\n",
    "\n",
    "apples_circularity = []\n",
    "hearts_circularity = []\n",
    "for file_index, file in enumerate(files):\n",
    "    img = plt.imread(input_folder+file)\n",
    "    img = img>0\n",
    "    \n",
    "    # Se a imagem possuir 3 dimensões, é porque ela não possui apenas\n",
    "    # 1 canal. Nesse caso, mantemos apenas o primeiro canal\n",
    "    if img.ndim==3:\n",
    "        img = img[:,:,0]\n",
    "        \n",
    "    # É útil aplicarmos abertura em cada imagem para eliminar\n",
    "    # o galho das imagens de maçã\n",
    "    img_opened = ndi.binary_opening(img, iterations=20)\n",
    "    \n",
    "    circularity = get_circularity(img_opened)\n",
    "    \n",
    "    if 'apple' in file:\n",
    "        apples_circularity.append(circularity)\n",
    "    elif 'heart' in file:\n",
    "        hearts_circularity.append(circularity)"
   ]
  },
  {
   "cell_type": "code",
   "execution_count": 4,
   "metadata": {},
   "outputs": [
    {
     "name": "stdout",
     "output_type": "stream",
     "text": [
      "[0.9047492712795089, 0.9016950732230449, 0.8768005270544664, 0.8945304655891131, 0.8972321636652305, 0.9095610638263559, 0.8951687217063444, 0.891963413761499, 0.8955273914615255, 0.8815725016307453, 0.8907096436638827, 0.8905556693983726, 0.8897680479570943, 0.8899079496981472, 0.8166144402002152]\n",
      "[0.6238391536363828, 0.5777741341704432, 0.5900779389545067, 0.6157916570511682, 0.5305012668680407, 0.5006078332123205, 0.46586754645751555, 0.682017963052322, 0.6976106400969869, 0.7347801238430819, 0.5987660380406917, 0.6217778293012992, 0.5996012193454248, 0.6305374367464116, 0.6290087806499792]\n"
     ]
    }
   ],
   "source": [
    "print(apples_circularity)\n",
    "print(hearts_circularity)"
   ]
  },
  {
   "cell_type": "markdown",
   "metadata": {},
   "source": [
    "### 1.2 Cálculo do histograma da circularidade para cada classe"
   ]
  },
  {
   "cell_type": "code",
   "execution_count": 5,
   "metadata": {},
   "outputs": [
    {
     "data": {
      "text/plain": [
       "<matplotlib.legend.Legend at 0x1b4b477c6d8>"
      ]
     },
     "execution_count": 5,
     "metadata": {},
     "output_type": "execute_result"
    },
    {
     "data": {
      "image/png": "[encoded data removed]",
      "text/plain": [
       "<Figure size 432x288 with 1 Axes>"
      ]
     },
     "metadata": {},
     "output_type": "display_data"
    }
   ],
   "source": [
    "bins = np.linspace(0, 1, 30)\n",
    "plt.hist(apples_circularity, bins, alpha=0.6)\n",
    "plt.hist(hearts_circularity, bins, alpha=0.6)\n",
    "plt.legend(('Apples', 'Hearts'))"
   ]
  },
  {
   "cell_type": "markdown",
   "metadata": {
    "collapsed": true
   },
   "source": [
    "Vemos que uma circularidade de 0.77 parece ser um bom valor de separação."
   ]
  },
  {
   "cell_type": "markdown",
   "metadata": {},
   "source": [
    "# 2. Classificação"
   ]
  },
  {
   "cell_type": "markdown",
   "metadata": {},
   "source": [
    "Faremos a leitura das imagens possuindo classes desconhecidas e associaremos a maçã ou coração dependendo do valor de circularidade"
   ]
  },
  {
   "cell_type": "code",
   "execution_count": 6,
   "metadata": {
    "collapsed": true
   },
   "outputs": [],
   "source": [
    "circ_threshold = 0.77\n",
    "\n",
    "input_folder = 'imagens/imagens_desconhecidas/'\n",
    "files = os.listdir(input_folder)\n",
    "num_files = len(files)\n",
    "\n",
    "apples_circularity = []\n",
    "hearts_circularity = []\n",
    "apples_imgs = []\n",
    "hearts_imgs = []\n",
    "for file_index, file in enumerate(files):\n",
    "    img = plt.imread(input_folder+file)\n",
    "    img = img>0\n",
    "    if img.ndim==3:\n",
    "        img = img[:,:,0]\n",
    "        \n",
    "    img_opened = ndi.binary_opening(img, iterations=20)\n",
    "    \n",
    "    circularity = get_circularity(img_opened)\n",
    "    \n",
    "    if circularity>circ_threshold:\n",
    "        apples_circularity.append(circularity)\n",
    "        apples_imgs.append(img)\n",
    "    else:\n",
    "        hearts_circularity.append(circularity)\n",
    "        hearts_imgs.append(img)\n",
    "        "
   ]
  },
  {
   "cell_type": "code",
   "execution_count": 7,
   "metadata": {},
   "outputs": [
    {
     "data": {
      "image/png": "[encoded data removed]",
      "text/plain": [
       "<Figure size 432x288 with 1 Axes>"
      ]
     },
     "metadata": {},
     "output_type": "display_data"
    },
    {
     "data": {
      "image/png": "[encoded data removed]",
      "text/plain": [
       "<Figure size 432x288 with 1 Axes>"
      ]
     },
     "metadata": {},
     "output_type": "display_data"
    },
    {
     "data": {
      "image/png": "[encoded data removed]",
      "text/plain": [
       "<Figure size 432x288 with 1 Axes>"
      ]
     },
     "metadata": {},
     "output_type": "display_data"
    },
    {
     "data": {
      "image/png": "[encoded data removed]",
      "text/plain": [
       "<Figure size 432x288 with 1 Axes>"
      ]
     },
     "metadata": {},
     "output_type": "display_data"
    },
    {
     "data": {
      "image/png": "[encoded data removed]",
      "text/plain": [
       "<Figure size 432x288 with 1 Axes>"
      ]
     },
     "metadata": {},
     "output_type": "display_data"
    }
   ],
   "source": [
    "for img in apples_imgs:\n",
    "    plt.figure()\n",
    "    plt.imshow(img, 'gray')"
   ]
  },
  {
   "cell_type": "code",
   "execution_count": 8,
   "metadata": {},
   "outputs": [
    {
     "data": {
      "image/png": "[encoded data removed]",
      "text/plain": [
       "<Figure size 432x288 with 1 Axes>"
      ]
     },
     "metadata": {},
     "output_type": "display_data"
    },
    {
     "data": {
      "image/png": "[encoded data removed]",
      "text/plain": [
       "<Figure size 432x288 with 1 Axes>"
      ]
     },
     "metadata": {},
     "output_type": "display_data"
    },
    {
     "data": {
      "image/png": "[encoded data removed]",
      "text/plain": [
       "<Figure size 432x288 with 1 Axes>"
      ]
     },
     "metadata": {},
     "output_type": "display_data"
    },
    {
     "data": {
      "image/png": "[encoded data removed]",
      "text/plain": [
       "<Figure size 432x288 with 1 Axes>"
      ]
     },
     "metadata": {},
     "output_type": "display_data"
    },
    {
     "data": {
      "image/png": "[encoded data removed]",
      "text/plain": [
       "<Figure size 432x288 with 1 Axes>"
      ]
     },
     "metadata": {},
     "output_type": "display_data"
    }
   ],
   "source": [
    "for img in hearts_imgs:\n",
    "    plt.figure()\n",
    "    plt.imshow(img, 'gray')"
   ]
  },
  {
   "cell_type": "code",
   "execution_count": null,
   "metadata": {
    "collapsed": true
   },
   "outputs": [],
   "source": []
  }
 ],
 "metadata": {
  "kernelspec": {
   "display_name": "Python 3",
   "language": "python",
   "name": "python3"
  },
  "language_info": {
   "codemirror_mode": {
    "name": "ipython",
    "version": 3
   },
   "file_extension": ".py",
   "mimetype": "text/x-python",
   "name": "python",
   "nbconvert_exporter": "python",
   "pygments_lexer": "ipython3",
   "version": "3.6.5"
  }
 },
 "nbformat": 4,
 "nbformat_minor": 2
}
