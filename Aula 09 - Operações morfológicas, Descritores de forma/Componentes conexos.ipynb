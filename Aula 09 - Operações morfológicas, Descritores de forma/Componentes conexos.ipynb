{
 "cells": [
  {
   "cell_type": "markdown",
   "metadata": {},
   "source": [
    "# Componentes conexos\n",
    "\n",
    "Encontra os componentes conexos em uma imagem binária. É assumido que pixels pertencentes a um objeto possuem valor 1. \n",
    "\n",
    "O algoritmo consiste em percorrer a imagem duas vezes. Na primeira passagem, os seguintes passos são executados:\n",
    "\n",
    "1. Percorra cada linha da imagem, da esquerda para a direita;\n",
    "2. Para cada pixel com valor 1, verifique os valores dos pixels à esquerda e ao norte;\n",
    "3. Chame o valor do pixel à esquerda de $𝑝_𝑒$ e o valor do pixel ao norte de $𝑝_𝑛$;\n",
    "4. Se $𝑝_𝑒=0$ e $𝑝_𝑛=0$, associe um novo rótulo ao pixel atual;\n",
    "5. Se ($𝑝_𝑒=1$ e $𝑝_𝑛=0$) ou ($𝑝_𝑒=0$ e $𝑝_𝑛=1$) ou ($𝑝_𝑒=1$ e $𝑝_𝑛=1$ e ambos os pixels possuem o mesmo rótulo), associe ao pixel atual o mesmo rótulo do pixel com valor 1\n",
    "6. Se $𝑝_𝑒=1$ e $𝑝_𝑛=1$ e os pixels possuem rótulos diferentes, associe ao pixel atual o menor rótulo dentre os dois e armazene a equivalência entre os dois rótulos\n",
    "\n",
    "Na segunda passagem, cada rótulo de um pixel é substituído pelo menor valor de rótulo equivalente (armazenado na primeira passagem sobre a imagem).\n"
   ]
  },
  {
   "cell_type": "code",
   "execution_count": 1,
   "metadata": {
    "collapsed": true
   },
   "outputs": [],
   "source": [
    "%matplotlib inline\n",
    "import numpy as np\n",
    "import matplotlib.pyplot as plt\n",
    "\n",
    "def connected_components(img):\n",
    "    '''Identifica componentes conexos em uma imagem binária img. É considerada vizinhança-4 para identificar\n",
    "       os componentes.'''\n",
    "    \n",
    "    num_rows, num_cols = img.shape\n",
    "    img_rotulo = np.zeros((num_rows, num_cols), dtype=int)\n",
    "    current_label = 1        # rótulo atual a ser associado a um novo componente\n",
    "    dict_lab_eq = {}         # Dicionário que armazena a equivalência entre rótulos num mesmo componente\n",
    "    for row in range(num_rows):\n",
    "        for col in range(num_cols):\n",
    "            if img[row, col]==1:\n",
    "                # As duas condicionais abaixo tratam o caso do pixel ser borda da imagem\n",
    "                if row==0:\n",
    "                    img_pn = 0\n",
    "                else:\n",
    "                    img_pn = img[row-1, col]\n",
    "                    lab_pn = img_rotulo[row-1, col]     # Rótulo do pixel ao norte\n",
    "                    \n",
    "                if col==0:\n",
    "                    img_pe = 0\n",
    "                else:\n",
    "                    img_pe = img[row, col-1]\n",
    "                    lab_pe = img_rotulo[row, col-1]     # Rótulo do pixel à esquerda\n",
    "                    \n",
    "                if img_pn==0 and img_pe==0:\n",
    "                    img_rotulo[row, col] = current_label\n",
    "                    current_label += 1\n",
    "                elif img_pn==0 and img_pe==1:\n",
    "                    img_rotulo[row, col] = lab_pe\n",
    "                elif img_pn==1 and img_pe==0:\n",
    "                    img_rotulo[row, col] = lab_pn\n",
    "                elif img_pn==1 and img_pe==1:\n",
    "                    if lab_pe==lab_pn:\n",
    "                        img_rotulo[row, col] = lab_pn\n",
    "                    else:\n",
    "                        if lab_pn<lab_pe:\n",
    "                            img_rotulo[row, col] = lab_pn\n",
    "                            dict_lab_eq[lab_pe] = lab_pn    # Armazena equivalência entre rótulos\n",
    "                        else:\n",
    "                            img_rotulo[row, col] = lab_pe\n",
    "                            dict_lab_eq[lab_pn] = lab_pe    # Armazena equivalência entre rótulos\n",
    "    \n",
    "    # Podemos considerar que dict_lab_eq representa um grafo de relacionamentos entre\n",
    "    # rótulos. Os nós do grafo representam rótulos e cada aresta direcionada saindo de\n",
    "    # um nó i e apontando para um nó j indica que podemos substituir o rótulo i pelo rótulo j.\n",
    "    # Com isso, para cada rótulo k, percorremos o grafo em profundidade para encontrar um\n",
    "    # rótulo q que não possui nenuhma aresta saindo dele. Feito isso, armazenamos no dicionário\n",
    "    # que o rótulo k pode ser substituído por q\n",
    "    for key in dict_lab_eq:\n",
    "        label = dict_lab_eq[key]\n",
    "        while label in dict_lab_eq:\n",
    "            label = dict_lab_eq[label]\n",
    "        dict_lab_eq[key] = label\n",
    "        \n",
    "    # Se quisermos que os rótulos finais sejam a sequência\n",
    "    # 1, 2, 3,..., podemos utilizar o dicionário criado abaixo \n",
    "    #k = 1\n",
    "    #dict_map_index = {}\n",
    "    #for label in range(1, curr_label):\n",
    "    #    if label not in dict_lab_eq:\n",
    "    #        dict_map_index[label] = k\n",
    "    #        k += 1\n",
    "\n",
    "    # Faz a segunda passagem sobre a imagem, substituindo os rótulos equivalentes\n",
    "    for row in range(num_rows):\n",
    "        for col in range(num_cols):\n",
    "            label = img_rotulo[row, col]\n",
    "            if label in dict_lab_eq:\n",
    "                img_rotulo[row, col] = dict_lab_eq[label]\n",
    "                \n",
    "    return img_rotulo\n",
    "                "
   ]
  },
  {
   "cell_type": "markdown",
   "metadata": {},
   "source": [
    "## Testes da função"
   ]
  },
  {
   "cell_type": "code",
   "execution_count": 2,
   "metadata": {},
   "outputs": [
    {
     "name": "stdout",
     "output_type": "stream",
     "text": [
      "[[0 0 1 1]\n",
      " [0 2 0 1]\n",
      " [2 2 2 0]]\n"
     ]
    }
   ],
   "source": [
    "img_test = np.array([[0, 0, 1, 1],\n",
    "                     [0, 1, 0, 1],\n",
    "                     [1, 1, 1, 0]])\n",
    "img_rotulo = connected_components(img_test)\n",
    "print(img_rotulo)"
   ]
  },
  {
   "cell_type": "code",
   "execution_count": 3,
   "metadata": {},
   "outputs": [
    {
     "data": {
      "text/plain": [
       "<matplotlib.image.AxesImage at 0x1facf1580f0>"
      ]
     },
     "execution_count": 3,
     "metadata": {},
     "output_type": "execute_result"
    },
    {
     "data": {
      "image/png": "[encoded data removed]",
      "text/plain": [
       "<Figure size 432x288 with 1 Axes>"
      ]
     },
     "metadata": {},
     "output_type": "display_data"
    }
   ],
   "source": [
    "img = plt.imread('componentes.tiff')\n",
    "# Objetos possuem valor 255 na imagem lida, o comando abaixo torna\n",
    "# a imagem binária, com valores True e False (equivalentemente, 0 e 1)\n",
    "img = img>0     \n",
    "img_rotulo = connected_components(img)\n",
    "\n",
    "plt.imshow(img_rotulo)"
   ]
  },
  {
   "cell_type": "code",
   "execution_count": 4,
   "metadata": {},
   "outputs": [
    {
     "data": {
      "text/plain": [
       "array([ 0,  1,  3,  5,  7,  9, 16, 23])"
      ]
     },
     "execution_count": 4,
     "metadata": {},
     "output_type": "execute_result"
    }
   ],
   "source": [
    "# A função abaixo identifica os valores únicos presentes no array img_rotulo\n",
    "np.unique(img_rotulo)"
   ]
  },
  {
   "cell_type": "code",
   "execution_count": null,
   "metadata": {
    "collapsed": true
   },
   "outputs": [],
   "source": []
  }
 ],
 "metadata": {
  "kernelspec": {
   "display_name": "Python 3",
   "language": "python",
   "name": "python3"
  },
  "language_info": {
   "codemirror_mode": {
    "name": "ipython",
    "version": 3
   },
   "file_extension": ".py",
   "mimetype": "text/x-python",
   "name": "python",
   "nbconvert_exporter": "python",
   "pygments_lexer": "ipython3",
   "version": "3.6.5"
  }
 },
 "nbformat": 4,
 "nbformat_minor": 2
}
