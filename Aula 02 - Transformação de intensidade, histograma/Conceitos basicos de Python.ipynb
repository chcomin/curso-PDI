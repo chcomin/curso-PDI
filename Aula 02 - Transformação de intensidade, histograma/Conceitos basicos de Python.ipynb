{
 "cells": [
  {
   "cell_type": "markdown",
   "metadata": {},
   "source": [
    "# Elementos básicos da linguagem Python"
   ]
  },
  {
   "cell_type": "code",
   "execution_count": 1,
   "metadata": {},
   "outputs": [
    {
     "name": "stdout",
     "output_type": "stream",
     "text": [
      "5\n",
      "Paulo\n",
      "True\n"
     ]
    }
   ],
   "source": [
    "# Variável\n",
    "valor = 5\n",
    "nome = \"Paulo\"\n",
    "flag = True \n",
    "\n",
    "print(valor)\n",
    "print(nome)\n",
    "print(flag)"
   ]
  },
  {
   "cell_type": "code",
   "execution_count": 2,
   "metadata": {},
   "outputs": [
    {
     "name": "stdout",
     "output_type": "stream",
     "text": [
      "valor = 10\n",
      "valor = 10\n",
      "valor = 10\n"
     ]
    }
   ],
   "source": [
    "# Diferentes formas de imprimir no terminal\n",
    "valor = 10\n",
    "print('valor = %d'%valor)\n",
    "print('valor = {}'.format(valor))\n",
    "print(f'valor = {valor}')"
   ]
  },
  {
   "cell_type": "code",
   "execution_count": 3,
   "metadata": {},
   "outputs": [
    {
     "name": "stdout",
     "output_type": "stream",
     "text": [
      "Valor maior ou igual a 5\n",
      "valor1 menor que 5 e valor2 maior ou igual a 5\n"
     ]
    }
   ],
   "source": [
    "# Condicional\n",
    "valor = 10\n",
    "if valor<5:\n",
    "    print(\"Valor menor do que 5\")\n",
    "else:\n",
    "    print(\"Valor maior ou igual a 5\")\n",
    "    \n",
    "# Múltiplas condições\n",
    "valor1 = 3\n",
    "valor2 = 10\n",
    "if valor1<5 and valor2<5:\n",
    "    print(\"Ambos valores menores que 5\")\n",
    "elif valor1<5 and valor2>=5:\n",
    "    print(\"valor1 menor que 5 e valor2 maior ou igual a 5\")\n",
    "elif valor1>=5 and valor2<5:    \n",
    "    print(\"valor1 maior ou igual a 5 e valor2 menor que 5\")\n",
    "else:\n",
    "    print(\"valor1 e valor2 maiores que 5 \")"
   ]
  },
  {
   "cell_type": "code",
   "execution_count": 4,
   "metadata": {},
   "outputs": [
    {
     "name": "stdout",
     "output_type": "stream",
     "text": [
      "minha_lista: [1, 2, 3, 4, 5, 6]\n",
      "matriz: [[1, 2, 3], [4, 5, 6], [7, 8, 9]]\n",
      "lista_intervalo: [3, 4, 5, 6, 7, 8, 9, 10]\n",
      "minha_lista: [1, 3, 5, 6]\n",
      "[5, 6]\n"
     ]
    }
   ],
   "source": [
    "# Lista de valores\n",
    "minha_lista = [1, 2, 3, 4, 5, 6]\n",
    "print('minha_lista: {}'.format(minha_lista))\n",
    "\n",
    "# Uma lista pode conter variáveis de tipos diferentes\n",
    "minha_lista = [3, 4.5, True, \"casa\"]\n",
    "\n",
    "# Lista de listas (matriz)\n",
    "matriz = [[1, 2, 3], [4, 5, 6], [7, 8, 9]]\n",
    "print('matriz: {}'.format(matriz))\n",
    "\n",
    "# Lista de valores inteiros entre 3 e 10\n",
    "lista_intervalo = list(range(3, 11))\n",
    "print('lista_intervalo: {}'.format(lista_intervalo))\n",
    "\n",
    "## Manipulação de listas\n",
    "minha_lista = [1, 2, 3, 4, 5, 6]\n",
    "\n",
    "# Adiciona valor ao final da lista\n",
    "minha_lista.append(6)\n",
    "\n",
    "# Remove valor no final\n",
    "ultimo_valor = minha_lista.pop()\n",
    "\n",
    "# Remove valor no indice 3\n",
    "valor = minha_lista.pop(3)\n",
    "\n",
    "# Remove primeira ocorrência do número 2\n",
    "minha_lista.remove(2)\n",
    "print('minha_lista: {}'.format(minha_lista))\n",
    "\n",
    "# Fatiamento de lista\n",
    "print(minha_lista[2:4])"
   ]
  },
  {
   "cell_type": "code",
   "execution_count": 5,
   "metadata": {},
   "outputs": [
    {
     "name": "stdout",
     "output_type": "stream",
     "text": [
      "Resultado do loop for:\n",
      "4\n",
      "8\n",
      "2\n",
      "6\n",
      "-5\n",
      "10\n",
      "---\n",
      "Resultado do loop for \"pythonico\":\n",
      "4\n",
      "8\n",
      "2\n",
      "6\n",
      "-5\n",
      "10\n",
      "---\n",
      "Resultado do loop while:\n",
      "1\n",
      "2\n",
      "3\n",
      "4\n",
      "5\n",
      "6\n",
      "7\n",
      "8\n",
      "9\n",
      "10\n"
     ]
    }
   ],
   "source": [
    "# Loop for\n",
    "print('Resultado do loop for:')\n",
    "lista = [4, 8, 2, 6, -5, 10]\n",
    "for indice in range(len(lista)):\n",
    "    print(lista[indice])\n",
    "    \n",
    "print('---')  \n",
    "\n",
    "# Loop for \"pythonico\"\n",
    "print('Resultado do loop for \"pythonico\":')\n",
    "for val in lista:\n",
    "    print(val)\n",
    "\n",
    "print('---')   \n",
    "# Loop while\n",
    "print('Resultado do loop while:')\n",
    "valor = 0\n",
    "while valor<10:\n",
    "    valor += 1\n",
    "    print(valor)"
   ]
  },
  {
   "cell_type": "code",
   "execution_count": 6,
   "metadata": {},
   "outputs": [
    {
     "name": "stdout",
     "output_type": "stream",
     "text": [
      "7\n"
     ]
    }
   ],
   "source": [
    "# Função\n",
    "def soma(v1, v2):\n",
    "    res = v1 + v2\n",
    "    return res\n",
    "\n",
    "print(soma(3, 4))"
   ]
  }
 ],
 "metadata": {
  "kernelspec": {
   "display_name": "Python 3",
   "language": "python",
   "name": "python3"
  },
  "language_info": {
   "codemirror_mode": {
    "name": "ipython",
    "version": 3
   },
   "file_extension": ".py",
   "mimetype": "text/x-python",
   "name": "python",
   "nbconvert_exporter": "python",
   "pygments_lexer": "ipython3",
   "version": "3.6.5"
  }
 },
 "nbformat": 4,
 "nbformat_minor": 2
}
