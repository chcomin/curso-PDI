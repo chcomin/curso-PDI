{
 "cells": [
  {
   "cell_type": "markdown",
   "metadata": {},
   "source": [
    "# Processamento de Vídeo utilizando o OpenCV"
   ]
  },
  {
   "cell_type": "code",
   "execution_count": 1,
   "metadata": {
    "collapsed": true
   },
   "outputs": [],
   "source": [
    "%matplotlib inline\n",
    "import cv2\n",
    "import numpy as np"
   ]
  },
  {
   "cell_type": "markdown",
   "metadata": {},
   "source": [
    "### 1. Leitura e processamento de um arquivo de vídeo "
   ]
  },
  {
   "cell_type": "code",
   "execution_count": 2,
   "metadata": {
    "collapsed": true
   },
   "outputs": [],
   "source": [
    "# Abre arquivo de vídeo\n",
    "vcap = cv2.VideoCapture('video.mp4')\n",
    "\n",
    "while True:\n",
    "\n",
    "    # Obtém próximo frame do vídeo. ret indica se o frame\n",
    "    # foi lido com sucesso, curr_frame possui a imagem\n",
    "    ret, curr_frame = vcap.read()\n",
    "    if ret==True:\n",
    "        # Aqui podemos aplicar métodos de processamento de imagem \n",
    "        # na imagem curr_frame. Por exemplo, transformar a imagem\n",
    "        # para nível de cinza\n",
    "        curr_frame_g = cv2.cvtColor(curr_frame, cv2.COLOR_BGR2GRAY)\n",
    "        cv2.imshow('frame',curr_frame_g)\n",
    "        \n",
    "    # cv2.waitKey(x) faz o programa esperar x milisegundos para que uma tecla \n",
    "    # seja digitada. Dependendo da plataforma, o resultado dessa função pode \n",
    "    # ser um número com mais de 8 bits. É comum que uma operação bitwise and \n",
    "    # seja feita entre o resultado dessa função e o número 0xff (11111111), \n",
    "    # de forma que apenas os 8 primeiros bits sejam mantidos. A tecla esc \n",
    "    # corresponde ao valor 27\n",
    "    key = cv2.waitKey(1) & 0xff\n",
    "    if key == 27:\n",
    "        break\n",
    "\n",
    "# Libera o arquivo\n",
    "vcap.release()\n",
    "# Fecha a janela\n",
    "cv2.destroyAllWindows()"
   ]
  },
  {
   "cell_type": "markdown",
   "metadata": {},
   "source": [
    "### 2. Leitura, processamento e escrita de um novo arquivo de vídeo"
   ]
  },
  {
   "cell_type": "code",
   "execution_count": 3,
   "metadata": {
    "scrolled": false
   },
   "outputs": [
    {
     "ename": "KeyboardInterrupt",
     "evalue": "",
     "output_type": "error",
     "traceback": [
      "\u001b[1;31m---------------------------------------------------------------\u001b[0m",
      "\u001b[1;31mKeyboardInterrupt\u001b[0m             Traceback (most recent call last)",
      "\u001b[1;32m<ipython-input-3-d7f4af5adfc5>\u001b[0m in \u001b[0;36m<module>\u001b[1;34m()\u001b[0m\n\u001b[0;32m     28\u001b[0m     \u001b[0mret\u001b[0m\u001b[1;33m,\u001b[0m \u001b[0mcurr_frame\u001b[0m \u001b[1;33m=\u001b[0m \u001b[0mvcap\u001b[0m\u001b[1;33m.\u001b[0m\u001b[0mread\u001b[0m\u001b[1;33m(\u001b[0m\u001b[1;33m)\u001b[0m\u001b[1;33m\u001b[0m\u001b[0m\n\u001b[0;32m     29\u001b[0m     \u001b[1;32mif\u001b[0m \u001b[0mret\u001b[0m\u001b[1;33m==\u001b[0m\u001b[1;32mTrue\u001b[0m\u001b[1;33m:\u001b[0m\u001b[1;33m\u001b[0m\u001b[0m\n\u001b[1;32m---> 30\u001b[1;33m         \u001b[0mnew_frame\u001b[0m \u001b[1;33m=\u001b[0m \u001b[0mgreen_boost\u001b[0m\u001b[1;33m(\u001b[0m\u001b[0mcurr_frame\u001b[0m\u001b[1;33m)\u001b[0m\u001b[1;33m\u001b[0m\u001b[0m\n\u001b[0m\u001b[0;32m     31\u001b[0m         \u001b[0mvideo_writer\u001b[0m\u001b[1;33m.\u001b[0m\u001b[0mwrite\u001b[0m\u001b[1;33m(\u001b[0m\u001b[0mnew_frame\u001b[0m\u001b[1;33m)\u001b[0m\u001b[1;33m\u001b[0m\u001b[0m\n\u001b[0;32m     32\u001b[0m     \u001b[1;32melse\u001b[0m\u001b[1;33m:\u001b[0m\u001b[1;33m\u001b[0m\u001b[0m\n",
      "\u001b[1;32m<ipython-input-3-d7f4af5adfc5>\u001b[0m in \u001b[0;36mgreen_boost\u001b[1;34m(img)\u001b[0m\n\u001b[0;32m      6\u001b[0m     \u001b[0mnew_green_channel_normalized\u001b[0m \u001b[1;33m=\u001b[0m \u001b[0mnp\u001b[0m\u001b[1;33m.\u001b[0m\u001b[0mround\u001b[0m\u001b[1;33m(\u001b[0m\u001b[0mnew_green_channel_normalized\u001b[0m\u001b[1;33m)\u001b[0m\u001b[1;33m.\u001b[0m\u001b[0mastype\u001b[0m\u001b[1;33m(\u001b[0m\u001b[0mnp\u001b[0m\u001b[1;33m.\u001b[0m\u001b[0muint8\u001b[0m\u001b[1;33m)\u001b[0m\u001b[1;33m\u001b[0m\u001b[0m\n\u001b[0;32m      7\u001b[0m     \u001b[0mnew_img\u001b[0m \u001b[1;33m=\u001b[0m \u001b[0mimg\u001b[0m\u001b[1;33m.\u001b[0m\u001b[0mcopy\u001b[0m\u001b[1;33m(\u001b[0m\u001b[1;33m)\u001b[0m\u001b[1;33m\u001b[0m\u001b[0m\n\u001b[1;32m----> 8\u001b[1;33m     \u001b[0mnew_img\u001b[0m\u001b[1;33m[\u001b[0m\u001b[1;33m:\u001b[0m\u001b[1;33m,\u001b[0m\u001b[1;33m:\u001b[0m\u001b[1;33m,\u001b[0m\u001b[1;36m1\u001b[0m\u001b[1;33m]\u001b[0m \u001b[1;33m=\u001b[0m \u001b[0mnew_green_channel_normalized\u001b[0m\u001b[1;33m\u001b[0m\u001b[0m\n\u001b[0m\u001b[0;32m      9\u001b[0m \u001b[1;33m\u001b[0m\u001b[0m\n\u001b[0;32m     10\u001b[0m     \u001b[1;32mreturn\u001b[0m \u001b[0mnew_img\u001b[0m\u001b[1;33m\u001b[0m\u001b[0m\n",
      "\u001b[1;31mKeyboardInterrupt\u001b[0m: "
     ]
    }
   ],
   "source": [
    "def green_boost(img):\n",
    "    \n",
    "    green_channel = img[:,:,1]\n",
    "    new_green_channel = np.power(green_channel, 0.5)\n",
    "    new_green_channel_normalized = 255*new_green_channel/np.max(new_green_channel)\n",
    "    new_green_channel_normalized = np.round(new_green_channel_normalized).astype(np.uint8)\n",
    "    new_img = img.copy()\n",
    "    new_img[:,:,1] = new_green_channel_normalized\n",
    "    \n",
    "    return new_img\n",
    "\n",
    "vcap = cv2.VideoCapture('video.mp4')\n",
    "\n",
    "# Obtém informações sobre o vídeo\n",
    "fps = vcap.get(cv2.CAP_PROP_FPS)\n",
    "w = int(vcap.get(cv2.CAP_PROP_FRAME_WIDTH))\n",
    "h = int(vcap.get(cv2.CAP_PROP_FRAME_HEIGHT))\n",
    "\n",
    "# Obtém o código associado com um dado codec de compressão de vídeo. MJPG\n",
    "# tende a funcionar em diferentes plataformas, mas é meio ruim. Uma boa\n",
    "# opção é o 'H264', mas é preciso que ele esteja instalado no sistema\n",
    "codec = cv2.VideoWriter_fourcc(*'MJPG')\n",
    "\n",
    "# Cria arquivo de saída\n",
    "video_writer = cv2.VideoWriter('output.mp4', codec, fps, (w,h))\n",
    "\n",
    "while True:\n",
    "    ret, curr_frame = vcap.read()\n",
    "    if ret==True:\n",
    "        new_frame = green_boost(curr_frame)        \n",
    "        video_writer.write(new_frame)\n",
    "    else:\n",
    "        break\n",
    "        \n",
    "vcap.release()\n",
    "video_writer.release()"
   ]
  },
  {
   "cell_type": "markdown",
   "metadata": {},
   "source": [
    "### 3. Leitura e processamento utilizando uma câmera"
   ]
  },
  {
   "cell_type": "code",
   "execution_count": null,
   "metadata": {
    "collapsed": true
   },
   "outputs": [],
   "source": [
    "import scipy.ndimage as ndi\n",
    "\n",
    "def process_frame(img):\n",
    "    \n",
    "    img_gray = cv2.cvtColor(img, cv2.COLOR_BGR2GRAY)\n",
    "    img_gray = img_gray.astype(float)\n",
    "    grad_mag = ndi.gaussian_gradient_magnitude(img_gray, sigma=2)\n",
    "    grad_mag_norm = grad_mag - np.min(grad_mag)\n",
    "    grad_mag_norm = 255*grad_mag_norm/np.max(grad_mag_norm)\n",
    "    grad_mag_norm = np.round(grad_mag_norm).astype(np.uint8)    \n",
    "    return grad_mag_norm\n",
    "    \n",
    "# Abre dispositivo de captura. O parâmetro 0 faz com que\n",
    "# a primeira câmera encontrada seja utilizada\n",
    "vcap = cv2.VideoCapture(0)\n",
    "\n",
    "while True:\n",
    "    ret, curr_frame = vcap.read()\n",
    "    if ret==True:\n",
    "        # Redimensionamos a imagem para diminuir o custo computacional\n",
    "        # necessário para processar o frame\n",
    "        resized_frame = cv2.resize(curr_frame, (640, 360))\n",
    "        processed_frame = process_frame(resized_frame)\n",
    "               \n",
    "        cv2.imshow('frame', processed_frame)\n",
    "    else:\n",
    "        print(\"Frame not available\")\n",
    "        \n",
    "    # Esperar 33 milisegundos significa mostrar 30 imagens por segundo (1/0.033).\n",
    "    # Portanto, o FPS (frames per second) do vídeo mostrado será aproximadamente 30.\n",
    "    # O valor não é exatamente 30 porque um tempo é gasto no processamento do frame\n",
    "    key = cv2.waitKey(33) & 0xff\n",
    "\n",
    "    if key == 27:\n",
    "        break\n",
    "\n",
    "vcap.release()\n",
    "cv2.destroyAllWindows()"
   ]
  },
  {
   "cell_type": "code",
   "execution_count": null,
   "metadata": {
    "collapsed": true
   },
   "outputs": [],
   "source": []
  }
 ],
 "metadata": {
  "kernelspec": {
   "display_name": "Python 3",
   "language": "python",
   "name": "python3"
  },
  "language_info": {
   "codemirror_mode": {
    "name": "ipython",
    "version": 3
   },
   "file_extension": ".py",
   "mimetype": "text/x-python",
   "name": "python",
   "nbconvert_exporter": "python",
   "pygments_lexer": "ipython3",
   "version": "3.6.5"
  }
 },
 "nbformat": 4,
 "nbformat_minor": 2
}
